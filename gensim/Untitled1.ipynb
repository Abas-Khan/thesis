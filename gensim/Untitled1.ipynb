{
 "cells": [
  {
   "cell_type": "code",
   "execution_count": 11,
   "metadata": {},
   "outputs": [],
   "source": [
    "from nltk.corpus import stopwords"
   ]
  },
  {
   "cell_type": "code",
   "execution_count": 3,
   "metadata": {},
   "outputs": [],
   "source": [
    "content = []\n",
    "with open('big_home_test.txt', 'r') as content_file:\n",
    "    content = content_file.read()\n",
    "\n",
    "    "
   ]
  },
  {
   "cell_type": "code",
   "execution_count": 5,
   "metadata": {},
   "outputs": [],
   "source": [
    "content = content.split(\"\\n\")"
   ]
  },
  {
   "cell_type": "code",
   "execution_count": 6,
   "metadata": {},
   "outputs": [
    {
     "name": "stdout",
     "output_type": "stream",
     "text": [
      "[Biochemical studies on camomile components/III. In vitro studies about the antipeptic activity of (--)-alpha-bisabolol (author's transl)].(--)-alpha-Bisabolol primary antipeptic action depending dosage, caused alteration pH-value. The proteolytic activity pepsin reduced 50 percent addition bisabolol ratio 1/0.5. The antipeptic action bisabolol occurs case direct contact. In case previous contact substrate, inhibiting effect lost.\n"
     ]
    }
   ],
   "source": [
    "print content[0]"
   ]
  },
  {
   "cell_type": "code",
   "execution_count": 528,
   "metadata": {},
   "outputs": [],
   "source": [
    "suggestions = '''Metabolic acidosis side-effect methoxyflurane anesthesia\n",
    "Nephrotic syndrome indian children.A clinicopathological\n",
    "Cordaron nonachlasine treatment chronic coronary\n",
    "Experience treatment open leg fractures].Open\n",
    "Arterialization coronary veins diffuse coronary\n",
    "Changes EEG pulmonary venous admixture\n",
    "Diagnosis liver diseases laboratory results\n",
    "Diagnosis renal tumor gamma-glutamyltranspeptidase (EC\n",
    "The immediate effect beta-isoket internal\n",
    "Tyrosine aminotransferase induction normal tumor-bearing\n",
    "Prognostic factors polyarteritis.The clinical course\n",
    "Postvacccinal encephalomyelitis protective antirabic innoculation,\n",
    "Roentgenological findings cryptorchidism.Intravenous urography 78\n",
    "Papillary necrosis associated calyceal arteritis.The\n",
    "Comparative evaluation results intertrochanteric femur\n",
    "Catecholamines, cholinergic serotoninergic complexes criteria\n",
    "Vasculitis hepatitis B antigenemia: long-term\n",
    "Evaluation non-professional visual screening method.A\n",
    "Significance serum pepsinogen abomasal pH\n",
    "Comparative study virological infections asthmatic'''\n"
   ]
  },
  {
   "cell_type": "code",
   "execution_count": 529,
   "metadata": {},
   "outputs": [],
   "source": [
    "suggestions = suggestions.split(\"\\n\")"
   ]
  },
  {
   "cell_type": "code",
   "execution_count": 530,
   "metadata": {},
   "outputs": [
    {
     "name": "stdout",
     "output_type": "stream",
     "text": [
      "Metabolic acidosis side-effect methoxyflurane anesthesia\n"
     ]
    }
   ],
   "source": [
    "print suggestions[0]"
   ]
  },
  {
   "cell_type": "code",
   "execution_count": 531,
   "metadata": {},
   "outputs": [],
   "source": [
    "key_words = \"study studies evidence Study Studies Evidence analysis Analysis investigations Investigations effect Effect effects Effects\""
   ]
  },
  {
   "cell_type": "code",
   "execution_count": 532,
   "metadata": {},
   "outputs": [
    {
     "name": "stdout",
     "output_type": "stream",
     "text": [
      "440\n",
      "[Metabolic acidosis as a side-effect of methoxyflurane anesthesia (author's transl)].In 14 patients undergoing surgery methoxyflurane anaesthesia development metabolic acidosis observed. As mechanisms causing acidosis regional ischaemia inhibition lactic acid metabolism liver breakdown products methoxyflurane discussed.\n",
      "\n",
      "\n",
      "458\n",
      "Nephrotic syndrome in indian children.A clinicopathological study 206 Indian children nephrotic syndrome showed primary renal cause 195 (96%), 77% boys. In 126 children (96 boys, 30 girls) onset disorder occurred age 5 years. Renal biopsy showed minimal lesions 150 patients (77%); 85 biopsy done 3 months 16 years onset nephrotic syndrome. Significant renal histological abnormalities 45 cases labelled mesangiocapillary 8, mesangioproliferative 4, proliferative extensive crescents 2, membranous 3, focal segmental glomerulosclerosis 9, focal global glomerulosclerosis 2, advanced nonspecific 8, mild proliferative 9. Nephritic manifestations mainly associated significant renal lesions, frequently encountered onset disease age 5 years. Clearance proteinuria corticosteroid therapy practically confined patients minimal mild renal histological changes. Our findings suggest pattern idiopathic nephrotic syndrome Indian children similar reported Western countries.\n",
      "\n",
      "\n",
      "793\n",
      "[Cordaron and nonachlasine in treatment of chronic coronary insufficiency].In double blind study clinical effect Cordaron conducted 55 patients chronic ischaemic heart disease positive effect obtained 80.4% cases, effect placebo-in 24.3%. Cordaron especially effective patients localized stenoses coronary arteries. Nonachlasine (an activator cardiac beta-adrenergic receptors) proved effective 10 13 patients chronic ischaemic heart disease.\n",
      "\n",
      "\n",
      "815\n",
      "226\n",
      "Arterialization of the coronary veins in diffuse coronary arteriosclerosis.Since coronary veins capillaries involved arteriosclerotic disease authors performed experimental, afterwards, clinical total selective coronary vein arterialization. Acute myocardial ischaemia created instance ligation anterior descending branch, treated internal mammary artery regional coronary vein anastomosis. In 21 patients selective arterialization \"Vena cordis magna\" \"Vena cordis media\", total arterialization coronary sinus performed. The clinical improvement follow-up studies seem promising treatment patients advanced diffuse heavy coronary arteriosclerosis. In acute myocardial ischaemia coronarographically localized coronary occlusion, aim regional vein arterialization minimize area infarction.\n",
      "\n",
      "\n",
      "131\n",
      "946\n",
      "Diagnosis of liver diseases by laboratory results and discriminant analysis. Identification of best combinations of laboratory tests.Patients different liver diseases studied discriminant analysis. Groups patients classified mainly basis liver biopsy findings showed functional differences permitted consistent reclassification discriminant functions using laboratory results. Optimal combinations laboratory tests separation liver diseases defined. Different combinations found, dependent subsets liver diseases studied.\n",
      "\n",
      "\n",
      "970\n",
      "797\n",
      "[The immediate effect of beta-isoket on the internal ocular pressure in patients with chronic simple glaucoma (author's transl)].In 27 patients non-compensated medically compensated chronic simple glaucoma, I.O.P. measured administration two tablets beta-isoket (which contain 5 mg isosorbiddinitrate 40 mg bupranolol). In none 54 eyes I.O.P. higher administration drug. On contrary, I.O.P. siginificantly highly significantly reduced 2 hours, probably beta-receptor-blocking component preparation.\n",
      "\n",
      "\n",
      "165\n",
      "765\n",
      "Prognostic factors in polyarteritis.The clinical course 40 patients polyarteritis reviewed determine prognostic factors response treatment. The first three months critical survival. Survivorship 57 per cent five years. Older age onset, involvement skeletal muscle presence peripheral neuropathy weighted satisfactory outcome. Cutaneous vasculitis associated benign course. Myocardial disease, central nervous system involvement, hypertension invariably poor prognostic factors. Muscle biopsies, even absence clinical involvement, useful diagnostic procedure, renal angiograms found valuable alternative renal biopsy. An unequivocal distinction clinical histopathologic criteria could made among polyarteritis nodosa, hypersentitivity angiitis, allergic granulomatosis. Australia antigenemia occurred six per cent patients. Although evaluation therapy difficult, data study show superiority high vs. low dosage corticosteroids suppressing active disease.\n",
      "\n",
      "\n",
      "357\n",
      "949\n",
      "327\n",
      "806\n",
      "404\n",
      "829\n",
      "432\n",
      "407\n",
      "426\n",
      "Comparative study of virological infections in asthmatic and nonasthmatic children.The author shows complex analyses: clinical, laboratory, X-rays, bronchoscopical, bronchographical measuring lung function tests well serological examinations blood serum groups asthmatic nonasthmatic children virological infection. The calculation statistically significant differences various diagnostical results groups confirmed asthmatic children virological infection respiratory tract, pathological findings X-ray lung function tests, bronchiectasis secondary bacteriological invasion occurs statistically significantly often nonasthmatic children.\n",
      "\n",
      "\n",
      "final score is : 8\n"
     ]
    }
   ],
   "source": [
    "score = 0\n",
    "for elements in suggestions:\n",
    "    index = 0\n",
    "    for idx,item in enumerate(content):\n",
    "        if all(elem in item  for elem in elements.split()):\n",
    "            print idx\n",
    "            index = idx\n",
    "    if any(substring in content[index] for substring in key_words.split()):\n",
    "        score = score + 1\n",
    "        print content[index]\n",
    "        print \"\\n\"\n",
    "print \"final score is :\",score        \n",
    "    \n",
    "    "
   ]
  },
  {
   "cell_type": "code",
   "execution_count": 445,
   "metadata": {},
   "outputs": [],
   "source": [
    "elements = \"An elderly 70 year old patient. Primary tumor in liver. metastasis in lung and liver\""
   ]
  },
  {
   "cell_type": "code",
   "execution_count": 446,
   "metadata": {},
   "outputs": [],
   "source": [
    "index = 0"
   ]
  },
  {
   "cell_type": "code",
   "execution_count": 447,
   "metadata": {},
   "outputs": [
    {
     "name": "stdout",
     "output_type": "stream",
     "text": [
      "49550\n"
     ]
    }
   ],
   "source": [
    "for idx,item in enumerate(content):\n",
    "    if all(elem in item  for elem in elements.split()):\n",
    "        print idx\n",
    "        index = idx"
   ]
  },
  {
   "cell_type": "code",
   "execution_count": 448,
   "metadata": {},
   "outputs": [],
   "source": [
    "key_words = \"study studies evidence Study Studies Evidence analysis Analysis investigations Investigations effect Effect effects Effects\""
   ]
  },
  {
   "cell_type": "code",
   "execution_count": 449,
   "metadata": {},
   "outputs": [
    {
     "name": "stdout",
     "output_type": "stream",
     "text": [
      "Rat liver cytosolic azoreductase. Purification and characterization.An azoreductase purified apparent homogeneity hepatic 105,000 x g supernatant fraction 3-methylcholanthrene-treated rats. In presence sodium dodecyl sulfate, purified enzyme preparation electrophoreses polyacrylamide gels single protein band molecular weight 30,000. In absence detergent, chromatography azoreductase Sephadex G-100 gives molecular weight 52,000 suggesting native enzyme may exist dimer. The purified azoreductase typical flavoprotein absorption spectrum contains 2 mol FAD/mol enzyme. The enzyme catalyzes reductive fission methyl red (2'-carboxy-4-N,N-dimethylaminoazobenzene) structure-activity study indicates 2'-carboxyl group methyl red essential catalysis since structurally related analogs totally inactive.\n"
     ]
    }
   ],
   "source": [
    "if any(substring in content[index] for substring in key_words.split()):\n",
    "    print content[index]\n",
    "    "
   ]
  },
  {
   "cell_type": "code",
   "execution_count": 398,
   "metadata": {},
   "outputs": [
    {
     "name": "stdout",
     "output_type": "stream",
     "text": [
      "CDP-diglyceride:inositol transferase from rat liver. Purification and properties.CDP-diglyceride:inositol transferase, catalyzes final step de novo synthesis phosphatidylinositol, solubilized sodium cholate microsomes prepared rat liver purified ammonium sulfate fractionation, sucrose density gradient centrifugation, DEAE-cellulose column chromatography. Addition phospholipid purification assay procedures prevented irreversible loss enzyme activity extent. The resulting preparation nearly homogeneous judged polyacrylamide gel electrophoresis. The recovery purified enzyme microsomal fraction 3 3.3% respect activity 0.12% respect amount protein. The molecular weight enzyme estimated sodium dodecyl sulfate-polyacrylamide gel electrophoresis 60,000. The purified enzyme required exogenous phospholipds activity. Various phospholipid classes activated enzyme rather nonspecifically. The Km myo-inositol 2.5 X 10(-3) M CDP-diglyceride 1.7 X 10(-4) M. The pH optimum 8.6. The enzyme required Mm2+ Mg2+ activity. The optimal concentration Mn2+ activation 0.5 mM, activity presence Mg2+ increased 20 mM. The enzyme inhibited thiol-reactive reagents. There competition inositol inosose-2 scyllitol.\n"
     ]
    }
   ],
   "source": [
    "print content[index]"
   ]
  },
  {
   "cell_type": "code",
   "execution_count": 12,
   "metadata": {},
   "outputs": [
    {
     "name": "stderr",
     "output_type": "stream",
     "text": [
      "/home/abbas/anaconda2/lib/python2.7/site-packages/ipykernel_launcher.py:1: UnicodeWarning: Unicode equal comparison failed to convert both arguments to Unicode - interpreting them as being unequal\n",
      "  \"\"\"Entry point for launching an IPython kernel.\n"
     ]
    }
   ],
   "source": [
    "#filtered_words = [word for word in content if word not in stopwords.words('english')]"
   ]
  },
  {
   "cell_type": "code",
   "execution_count": null,
   "metadata": {},
   "outputs": [
    {
     "name": "stderr",
     "output_type": "stream",
     "text": [
      "IOPub data rate exceeded.\n",
      "The notebook server will temporarily stop sending output\n",
      "to the client in order to avoid crashing it.\n",
      "To change this limit, set the config variable\n",
      "`--NotebookApp.iopub_data_rate_limit`.\n",
      "\n",
      "Current values:\n",
      "NotebookApp.iopub_data_rate_limit=1000000.0 (bytes/sec)\n",
      "NotebookApp.rate_limit_window=3.0 (secs)\n",
      "\n"
     ]
    }
   ],
   "source": [
    "print filtered_words"
   ]
  },
  {
   "cell_type": "code",
   "execution_count": 9,
   "metadata": {},
   "outputs": [],
   "source": [
    "results = [s for s in content if all(xs in s for xs in elements.split())]"
   ]
  },
  {
   "cell_type": "code",
   "execution_count": 1,
   "metadata": {},
   "outputs": [
    {
     "ename": "NameError",
     "evalue": "name 'results' is not defined",
     "output_type": "error",
     "traceback": [
      "\u001b[0;31m---------------------------------------------------------------------------\u001b[0m",
      "\u001b[0;31mNameError\u001b[0m                                 Traceback (most recent call last)",
      "\u001b[0;32m<ipython-input-1-60edbf48a961>\u001b[0m in \u001b[0;36m<module>\u001b[0;34m()\u001b[0m\n\u001b[0;32m----> 1\u001b[0;31m \u001b[0;32mprint\u001b[0m \u001b[0mresults\u001b[0m\u001b[0;34m\u001b[0m\u001b[0m\n\u001b[0m",
      "\u001b[0;31mNameError\u001b[0m: name 'results' is not defined"
     ]
    }
   ],
   "source": [
    "print results"
   ]
  },
  {
   "cell_type": "code",
   "execution_count": null,
   "metadata": {},
   "outputs": [],
   "source": []
  }
 ],
 "metadata": {
  "kernelspec": {
   "display_name": "Python 2",
   "language": "python",
   "name": "python2"
  },
  "language_info": {
   "codemirror_mode": {
    "name": "ipython",
    "version": 2
   },
   "file_extension": ".py",
   "mimetype": "text/x-python",
   "name": "python",
   "nbconvert_exporter": "python",
   "pygments_lexer": "ipython2",
   "version": "2.7.14"
  }
 },
 "nbformat": 4,
 "nbformat_minor": 2
}
