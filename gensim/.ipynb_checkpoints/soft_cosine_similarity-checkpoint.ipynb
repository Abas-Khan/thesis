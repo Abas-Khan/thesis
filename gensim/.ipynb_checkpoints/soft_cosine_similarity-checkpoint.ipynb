{
 "cells": [
  {
   "cell_type": "code",
   "execution_count": 15,
   "metadata": {},
   "outputs": [],
   "source": [
    "from gensim.corpora import Dictionary\n",
    "from gensim.models import TfidfModel\n",
    "from gensim.models import Word2Vec\n",
    "from multiprocessing import cpu_count\n",
    "from gensim.models import Doc2Vec\n",
    "from gensim.models.word2vec import LineSentence\n",
    "from gensim.similarities import MatrixSimilarity, WmdSimilarity, SoftCosineSimilarity\n",
    "import re\n",
    "from gensim import utils, matutils\n",
    "from gensim.parsing.preprocessing import remove_stopwords\n",
    "from word2number import w2n\n",
    "from gensim.models.word2vec_inner import FAST_VERSION, MAX_WORDS_IN_BATCH\n",
    "import itertools\n",
    "from gensim.parsing.preprocessing import stem_text\n",
    "\n"
   ]
  },
  {
   "cell_type": "code",
   "execution_count": 16,
   "metadata": {},
   "outputs": [],
   "source": [
    "def softcossim(query, index):\n",
    "    # Compute Soft Cosine Measure between the query and the documents.\n",
    "    query = tfidf[dictionary.doc2bow(query)]\n",
    "    \n",
    "    similarities = index[query]\n",
    "    return similarities\n"
   ]
  },
  {
   "cell_type": "code",
   "execution_count": null,
   "metadata": {},
   "outputs": [],
   "source": []
  },
  {
   "cell_type": "code",
   "execution_count": 17,
   "metadata": {},
   "outputs": [],
   "source": [
    "def fix_age(matchobj):\n",
    "    #print matchobj.group(0)\n",
    "    return str(w2n.word_to_num(matchobj.group(0)))+\" \"  \n",
    "\n",
    "class LineIterator(object):\n",
    "    \"\"\"Simple format: one sentence = one line; words already preprocessed and separated by whitespace.\n",
    "    \"\"\"\n",
    "\n",
    "    def __init__(self, source, max_sentence_length=MAX_WORDS_IN_BATCH, limit=None):\n",
    "\n",
    "        self.source = source\n",
    "        self.max_sentence_length = max_sentence_length\n",
    "        self.limit = limit\n",
    "\n",
    "    def __iter__(self):\n",
    "\n",
    "            with utils.smart_open(self.source) as fin:\n",
    "                for idx,line in enumerate(itertools.islice(fin, self.limit)):\n",
    "                    print idx,\n",
    "                    print \"\\r\",\n",
    "                    \n",
    "                    #line = re.sub(r\"(?<=\\w[^\\d])\\.|\\.(?=[^\\d])|\\(|\\)|\\[|\\]|,(?= )|((?<=[^\\w])-|-(?=[^\\w]))|'\",\"\",line)\n",
    "\n",
    "                    #Split words if they get stuffed together\n",
    "                    #line = re.sub( r\"([A-Z][A-Z]*)\", r\" \\1\", line)\n",
    "\n",
    "                    #line = re.sub(r\"\\.(?=[^\\d])|(?<=\\w|\\d)\\(|(?<=\\w|\\d)\\)\",\" \",line)\n",
    "                    #line = re.sub(r\"(?<=\\w[^\\d])\\.|\\(|\\)|\\[|\\]|,(?= )|((?<=[^\\w])-|-(?=[^\\w]))|'\",\"\",line)\n",
    "                    \n",
    "                    #NOTE split() will take care of extra spaces\n",
    "                    line = re.sub(r\"(?<=\\w[^\\d])\\.|\\.(?=[^\\d])|\\(|\\)|\\[|\\]|,(?= )|((?<=[^\\w])-|-(?=[^\\w]))|:|\\?|\\;\",\" \",line)\n",
    "                    \n",
    "                    \n",
    "                    \n",
    "                    #NOTE convert ages to numeric\n",
    "                    \n",
    "                    try:\n",
    "                        line = re.sub(r\"([a-z]+ (?=year-old))\",fix_age,line)\n",
    "                    except:\n",
    "                        pass\n",
    "                      \n",
    "\n",
    "                    line = remove_stopwords(line)\n",
    "                    #doc = filter(lambda word: word not in stopwords.words('english'),line.split(\" \") )\n",
    "                    line = stem_text(line)\n",
    "                    line = utils.to_unicode(line).split()\n",
    "                    i = 0\n",
    "                    while i < len(line):\n",
    "                        yield line[i: i + self.max_sentence_length]\n",
    "                        i += self.max_sentence_length"
   ]
  },
  {
   "cell_type": "code",
   "execution_count": 19,
   "metadata": {},
   "outputs": [
    {
     "name": "stdout",
     "output_type": "stream",
     "text": [
      "loading model                                                                                                                                                                                                                                                                                                                                                                                                                                                                                                                                                                                                                                                                                                                                                                                                                                                                                                                                                                                                      \n",
      " ................................ making the cum_table ......................................................... \n",
      "\n",
      "model loaded\n",
      "Number of unique words: 228092\n"
     ]
    }
   ],
   "source": [
    "fin = open(\"age_fix.txt\",\"r\").read()\n",
    "documents = fin.split(\"\\n\")\n",
    "corpus = LineIterator('age_fix.txt')\n",
    "\n",
    "\n",
    "dictionary = Dictionary(corpus)\n",
    "tfidf = TfidfModel(dictionary=dictionary)\n",
    "print \"loading model\"\n",
    "#NOTE fixed_stemmoutput was trained wthout removing stopwords\n",
    "model = Doc2Vec.load(\"./preprocessed_negative_sampling_ten/mod\")\n",
    "print \"model loaded\"\n",
    "\n",
    "similarity_matrix = model.wv.similarity_matrix(dictionary, tfidf, nonzero_limit=100)\n",
    "print(\"Number of unique words: %d\" % len(dictionary))\n",
    "\n"
   ]
  },
  {
   "cell_type": "code",
   "execution_count": 30,
   "metadata": {},
   "outputs": [
    {
     "name": "stdout",
     "output_type": "stream",
     "text": [
      "[ 1.43224448e-01  1.75095513e-01  4.57801633e-02  7.68828467e-02\n",
      "  7.60721043e-02 -8.80703405e-02 -1.48177177e-01  2.41183471e-02\n",
      "  4.90196086e-02  7.11190281e-03 -1.12664076e-02 -7.37211555e-02\n",
      "  3.60513218e-02  8.81851166e-02 -2.65979797e-01  1.34273410e-01\n",
      " -2.06949130e-01  5.60856983e-02  6.23490624e-02  4.38086204e-02\n",
      " -6.68889433e-02  1.69673786e-02 -3.85198258e-02  1.24061711e-01\n",
      "  2.15963036e-01 -2.37436835e-02 -2.23736227e-01 -2.95887113e-01\n",
      "  3.17562014e-01  3.26949246e-02 -1.97408274e-01 -5.44808470e-02\n",
      "  5.87943308e-02 -1.81130499e-01  2.79964209e-01  1.25856221e-01\n",
      " -1.35959864e-01  2.16814335e-02  1.06538922e-01 -1.78202540e-01\n",
      "  2.26532027e-01  9.80747342e-02 -2.90240586e-01 -8.52076262e-02\n",
      "  6.16157539e-02  1.98830858e-01 -9.28146467e-02 -4.19907905e-02\n",
      "  5.91024160e-02  2.02074111e-01  8.90668780e-02  3.12546752e-02\n",
      "  3.61136079e-01  1.83409363e-01  1.18777461e-01  6.10630848e-02\n",
      "  2.20766813e-01 -3.14416103e-02  1.53809870e-02 -6.06668601e-03\n",
      " -1.91027641e-01  1.79173172e-01 -1.74608845e-02  2.53700554e-01\n",
      "  2.58061409e-01  8.06946903e-02  7.44924694e-02  8.54360983e-02\n",
      "  2.55271465e-01 -1.87494271e-02  5.48799150e-02  3.53096277e-02\n",
      " -2.41607018e-02  2.13046819e-01  9.04560834e-02 -6.48494661e-02\n",
      "  1.20083556e-01  7.76390359e-02  4.92725074e-01  5.68557717e-02\n",
      " -1.63040727e-01 -3.72419953e-02  1.56941980e-01 -4.99203168e-02\n",
      "  1.51011720e-01  3.39125156e-01 -6.95011914e-02  9.07059386e-02\n",
      "  1.30256101e-01 -5.58110792e-03  2.88938910e-01  1.00895017e-01\n",
      " -1.59007698e-01  1.62462366e-03  2.52437413e-01  1.26690745e-01\n",
      "  4.64766193e-03  1.80250049e-01 -2.56205220e-02 -4.04655747e-02\n",
      " -9.73480404e-04  7.05401003e-02 -1.95612684e-01  1.37141868e-01\n",
      " -4.66088839e-02  5.74179478e-02 -3.28546986e-02 -3.80709499e-01\n",
      "  1.51872739e-01 -1.19341880e-01 -2.24917576e-01 -1.40987366e-01\n",
      " -6.81975409e-02  4.76959161e-04 -4.20696735e-02 -3.80034596e-02\n",
      " -1.75506711e-01 -6.11265190e-02 -6.54127225e-02  2.77435839e-01\n",
      " -1.05104595e-01  1.51027963e-02  8.69235396e-02 -1.20829754e-02\n",
      " -8.87930244e-02 -5.40090539e-02 -4.45223786e-02 -2.39501610e-01\n",
      "  1.88583042e-02 -2.29521856e-01 -9.96903330e-02 -9.70533788e-02\n",
      " -1.37549177e-01 -8.42006430e-02 -1.35805368e-01 -4.56225164e-02\n",
      " -1.84122041e-01  3.80320817e-01 -1.90151148e-02  2.10637823e-02\n",
      "  1.29347160e-01  2.45162755e-01 -1.27255954e-02 -4.19023931e-02\n",
      "  2.69849002e-01  8.08937624e-02  1.43876169e-02 -3.66435461e-02\n",
      "  2.66446620e-02  1.45571575e-01  2.42753681e-02 -1.40183166e-01\n",
      "  3.49037260e-01 -8.64951238e-02  2.35685021e-01 -9.48584527e-02\n",
      " -1.80691019e-01 -3.88548486e-02 -1.52855590e-02  6.49323280e-04\n",
      " -5.54326400e-02 -3.23218465e-01 -1.51116714e-01 -3.33833516e-01\n",
      " -6.25614449e-02  3.85223813e-02  3.76939088e-01 -9.76058245e-02\n",
      " -4.44821604e-02  4.70241047e-02  4.18637544e-02 -2.57356107e-01\n",
      "  1.33718267e-01 -3.80624621e-03 -2.11584389e-01 -2.97940344e-01\n",
      " -4.66730483e-02 -5.82028255e-02  1.01443015e-01 -2.42324710e-01\n",
      "  2.13341750e-02 -1.07557187e-02  2.10971832e-01 -8.03195462e-02\n",
      "  5.78164868e-03 -1.04676485e-01  2.43731976e-01  6.99653178e-02\n",
      " -1.22927912e-01  1.01556629e-01  9.71586928e-02 -9.60211605e-02\n",
      " -1.02302693e-01  7.75857940e-02  4.34600096e-03 -6.51560128e-02\n",
      "  1.29031420e-01  2.71208007e-02  8.35098773e-02  3.07544153e-02]\n"
     ]
    }
   ],
   "source": [
    "print model[\" \".join(documents[0].split(\" \")[:10])]"
   ]
  },
  {
   "cell_type": "code",
   "execution_count": 20,
   "metadata": {},
   "outputs": [
    {
     "name": "stdout",
     "output_type": "stream",
     "text": [
      "Compute SoftCosine over the corpus\n",
      "Done9                                                                                                                                                                                                                                                                                                                                                                                                                                                                                                                                                                                                                                                                                                                                                                                                                                                                                                                                                                                                        \n"
     ]
    }
   ],
   "source": [
    "print \"Compute SoftCosine over the corpus\"\n",
    "index = SoftCosineSimilarity(\n",
    "        tfidf[[dictionary.doc2bow(document) for document in corpus]],\n",
    "        similarity_matrix)\n",
    "print \"Done\""
   ]
  },
  {
   "cell_type": "code",
   "execution_count": 31,
   "metadata": {},
   "outputs": [
    {
     "name": "stdout",
     "output_type": "stream",
     "text": [
      "0 \r",
      "[u'biochem', u'studi', u'camomil', u'components/iii', u'in', u'vitro', u'studi', u'antipept', u'activ', u'alpha-bisabolol', u'author', u'transl', u'alpha-bisabolol', u'primari', u'antipept', u'action', u'depend', u'dosag', u'caus', u'alter', u'ph-valu', u'the', u'proteolyt', u'activ', u'pepsin', u'reduc', u'50', u'percent', u'addit', u'bisabolol', u'ratio', u'1/0.5', u'the', u'antipept', u'action', u'bisabolol', u'occur', u'case', u'direct', u'contact', u'in', u'case', u'previou', u'contact', u'substrat', u'inhibit', u'effect', u'lost']\n"
     ]
    }
   ],
   "source": [
    "for item in corpus:\n",
    "    print item\n",
    "    break"
   ]
  },
  {
   "cell_type": "code",
   "execution_count": null,
   "metadata": {},
   "outputs": [],
   "source": [
    "print \"Compute SoftCosine over the corpus\"\n",
    "index = SoftCosineSimilarity(\n",
    "        tfidf[[model[\" \".join(document.split(\" \")[:10])] for document in documents]],\n",
    "        similarity_matrix)\n",
    "print \"Done\""
   ]
  },
  {
   "cell_type": "code",
   "execution_count": 21,
   "metadata": {},
   "outputs": [
    {
     "name": "stdout",
     "output_type": "stream",
     "text": [
      "Prepare a query\n"
     ]
    }
   ],
   "source": [
    "print \"Prepare a query\"\n",
    "new_q = \"70 year-old man. elderly patient gender male. colon cancer. lung metastasis\"\n",
    "#query_doc = re.sub(r\"(?<=\\w[^\\d])\\.|\\.(?=[^\\d])|\\(|\\)|\\[|\\]|,(?= )|((?<=[^\\w])-|-(?=[^\\w]))|:\",\" \",query_doc)\n",
    "\n",
    "new_q = re.sub(r\"(?<=\\w[^\\d])\\.|\\.(?=[^\\d])|\\(|\\)|\\[|\\]|,(?= )|((?<=[^\\w])-|-(?=[^\\w]))|:|\\?|\\;\",\" \",new_q)\n",
    "new_q = utils.to_unicode(new_q).split()"
   ]
  },
  {
   "cell_type": "code",
   "execution_count": 22,
   "metadata": {},
   "outputs": [
    {
     "name": "stdout",
     "output_type": "stream",
     "text": [
      "calculate similarity\n"
     ]
    }
   ],
   "source": [
    "print \"calculate similarity\"\n",
    "results = softcossim(new_q,index)"
   ]
  },
  {
   "cell_type": "code",
   "execution_count": 23,
   "metadata": {},
   "outputs": [],
   "source": [
    "import numpy as np"
   ]
  },
  {
   "cell_type": "code",
   "execution_count": 24,
   "metadata": {},
   "outputs": [],
   "source": [
    "similarities = np.argsort(results)[::-1]"
   ]
  },
  {
   "cell_type": "code",
   "execution_count": 26,
   "metadata": {},
   "outputs": [
    {
     "name": "stdout",
     "output_type": "stream",
     "text": [
      "66278\n",
      "The Southeast Asian interpretation of gender dysphoria: an illustrative case report.In West gender dysphoria commonly attributed biological abnormality, parental influences favoring assumption gender opposite subjects anatomical sex, combination factors. In Southeast Asia (among Hindus Buddhists), numerous cases gender dysphoria occur. They generally receive less attention West evoke relatively little concern part persons affected members families. The condition attribwted residues previous life member opposite sex. Some persons gender identity confusion claim remember details previous lives. A case illustrating claims (without verifiable details) presented.\n",
      "\n",
      "\n",
      "34171\n",
      "[Combined doxorubicin and bleomycin treatment of metastasising thyroid carcinoma: results in 21 patients (authors transl)].The effectiveness combined cytostatic treatment doxorubicin bleomycin analysed 21 patients metastasising thyroid carcinoma progressed despite surgical radiotherapy. Tumour histology (anaplastic carcinoma 50%), age general condition patients pointed poor prognosis. Significant success (full partial remission) occurred eight patients. It possible results improved chemotherapy started earlier cytostatic drugs used case failure treatment.\n",
      "\n",
      "\n",
      "34840\n",
      "Immune responses in human colon cancer. II. Cytotoxic antibody detected in patients sera.Complement-dependent cytotoxicity (CDC), antibody-dependent cell-mediated cytotoxicity (ADCC), spontaneous cell-mediated cytotoxicity (SCMC) evaluated patients colon cancer use 51Cr release microcytotoxicity assay. We studied sera peripheral blood lymphocytes (PBL) patients colon cancer well normal controls using three separate human colon cancer cell lines targets. Antibody active either CDC ADCC assay detected 11 14 (79%) patients colon cancer, none found 18 normal individuals. The ability PBL patients colon cancer normal controls mediate ADCC SCMC differ significantly.\n",
      "\n",
      "\n",
      "41356\n",
      "Human lung tumor-associated antigens of 32,000 daltons molecular weight.Lung tumor-associated antigens approximately 32,000 daltons recognized use sensitive radioimmunoassays rabbit antisera, one raised extract pooled human malignant lung tissues another raised cell line derived human squamous cell carcinoma lung. These antigens differ antigens described previously, including carcinoembryonic antigen alpha-fetoprotein. The antigens detected 13 13 lung tumors (of histologic types), fetal tissue, normal brain, 2 8 colon tumors, 2 9 prostate tumors, 2 3 breast tumors, well cell lines derived lung tumors, neuroblastoma, human amnion, colon adenocarcinoma, bladder tumors. They detectable normal lung, liver, kidney, colon, prostate tissues cell lines derived osteosarcoma, fetal lung fibroblasts, transitional cell carcinoma, squamous cell carcinoma skin. Lung tumors different histologic types concluded express common, tumor-associated oncofetal antigens found less often tumors organs.\n",
      "\n",
      "\n",
      "91816\n",
      "The changing histopathology of lung cancer: a review of 1682 cases.We reviewed histopathology lung cancer patients seen past 13 years RPMI. Assessment data indicates adenocarcinoma becoming progressively prevalent related forms lung cancer. Factors part may account increased prevalence are: 1) changes criteria reading histopathology lung cancer, particularly since 1967; 2) increased incidence lung cancer among female population propensity adenocarcinoma; 3) occupational environmental factors. In 1974 adenocarcinoma first time became prevalent type lung cancer RPMI. Whatever reason, data truly representative national trend, adenocarcinoma soon become prevalent type lung cancer United States. This fact may result increasing death rate since present 18-month survival rate adenocarcinoma substantially less squamous cell carcinoma, past prevalent form disease. As smoking habits women closely approximate men, expect incidence mortality lung cancer prove quite similar sexes.\n",
      "\n",
      "\n",
      "28919\n",
      "Circulating antibodies in rats bearing grafted colon carcinoma.Sera rats bearing primary grafted colon carcinoma may contain antibodies react antigenic determinants surface cultivated colon cancer cells. Assays various target cells absorption experiments suggest antigens recognized circulating antibodies common independent lines cultivated colon cancer cells. They therefore cross-reacting, tumor-type-specific antigens. They could embryonic fetal antigens, sera multiparous animals react colon cancer cells. However, blocking experiments suggest antigens differ carcinofetal antigen previously demonstrated surface intestinal cancer cells xenoantiserum.\n",
      "\n",
      "\n",
      "70502\n",
      "[Incidence and post-mortem frequency of malignant tumors of the stomach, colon, rectum, and lung (authors transl)].A method determining incidence malignancies stomach, colon, rectum, lungs based frequency tumors autopsy material Institute Pathology University Heidelberg period 1900 1975. The main goal model time independent selection autopsy material indicated almost constant pattern sex, average age death, number inhabitants, number autopsies. There relationship incidence autopsy frequency coding diagnoses independently contributions cause death. The results show nearly constant incidence stomach cancer, steady incidence colon rectal cancer which, however, differs men women, large increase incidence lung cancer.\n",
      "\n",
      "\n",
      "96382\n",
      "Thyroid and breast cancer following childhood radiation.A 35 year-old man received radiation thymic enlargement child subsequently developed thyroid breast cancer reported. This appears first case association reported male.\n",
      "\n",
      "\n",
      "4418\n",
      "The effects of mechanical preparation and acidification of the colon on the healing of colonic anastomoses.The results clinical studies suggested inadequate preoperative mechanical preparation colon significant factor pathogenesis disruption colonic colorectal anastomoses. A possible explanation adverse effect poor mechanical preparation ammonia released feces cytotoxic effect healing anastomosis. It suggested acidification colonic lumen prevents release fecal ammonia protects anastomoses. The effects mechanical preparation colon colonic acidification studied anastomoses left colon rats. Colonic acidification produced oral administration synthetic disaccharide lactulose solution. Mechanical preparation resulted significant increase bursting wall tension anastomoses seventh postoperative day. The oral administration lactulose resulted reduction colonic mucosal pH, accompanied improved healing anastomoses, judged measurements colonic bursting pressure, bursting wall tension total challagen content. Mechanical preparation colon important factor safety colonic anastomosis. However, results suggest acidification colonic lumen significantly improves quality colonic healing.\n",
      "\n",
      "\n",
      "43710\n",
      "Management of colon ischemia following colon interposition for esophageal substitution.During past four years three patients seen ischemia colon segment following colon interposition. Colon interposition done esophageal cancer two patients esophageal stricture following ingestion lye. Colon ischemia manifested early two weeks one patient late eight weeks others. Colon ischemia presented frank gangrene cervical fistula dysphagia due stricture formation. Dysphagia two patients prompted mechanical dilatation colon segment led perforation cases. All three patients empyemas. The management patients includes proper diagnosis, drainage abscesses antibiotic treatment, hyperalimentation visceral arteriography delineate residual colon reinterposition. Two three patients series long-term survivors well.\n",
      "\n",
      "\n",
      "9483\n",
      "Gamma glutamyl transpeptidase in colon cancer induced by 1,2-dimethylhydrazine.The study gamma-glutamyl transpeptidase (GTase) colon adult rats showed sequence: duodenum, jejunum, ileum, cecum colon, colon lowest activity. There are, hand, relatively small differences GTase activities ascending, transverse descending portions large intestine. GTase activity colon neonatal rat several times higher colon adult rats. Colon adenocarcinoma induced 1,2-dimethylhydrazine found much higher GTase activity homologous normal tissue. Because tumors resemble human colonic adenocarcinomas, suggested assay GTase levels human colon mucosa might potential value diagnosis neoplastic changes.\n",
      "\n",
      "\n",
      "85029\n",
      "Carcinoma of the colon in a child.A case mucinous adenocarcinoma colon 12 year-old girl reported. There evidence pre-existing familial polyposis ulcerative colitis, conditions predispose colon carcinoma childhood. A review literature revealed 103 previously reported cases. The salient features disease discussed.\n",
      "\n",
      "\n",
      "1234\n",
      "Biology of large bowel cancer. Present status and research frontiers.Man laboratory rodents exposed chemical carcinogens show changes growth characteristics colonic epithelial cells neoplastic transformation. Progressive phases abnormal cell development appear colonic epithelial cells gain increased ability proliferate accumulate mucosa. These phases expression neoplastic transformation colonic cells best defined dominant inherited disease man adenomatosis colon rectum. Individuals inherited adenomatosis lesser risk categories classified cell phenotype based changes proliferation maturation colonic cells. These classifications leading new predictive indices identify heightened degrees susceptibility individuals increased risk colon cancer, stage development disease. The indices also used study contribution specific elements enviroment modify accelerate progression disease.\n",
      "\n",
      "\n",
      "39993\n",
      "Immunospecificity of nuclear nonhistone protein-DNA complexes in colon adenocarcinoma.Tumor-specific antisera dehistonized chromatin isolated transplantable colon adenocarcinoma (from male noninbred Sprague-Dawley rats) produced. The specificities antisera determined complement fixation. In presence antisera, chromatin colon adenocarcinoma significantly fixed complement, whereas chromatins isolated normal rat colon epithelia inactive. Administration 1,2-dimethylhydrazine rats produced early change immunospecificity colon epithelial chromatin similar colon adenocarcinoma. Several lines experimental evidence indicated nuclear antigen carcinoembryonic antigen-like substance. Common antigens also present human colon adenocarcinomas.\n",
      "\n",
      "\n",
      "94711\n",
      "Breast carcinoma following radiotherapy of metastatic Wilms tumor.A 22 year-old women developed breast cancer 15 years radiotherapy lung metastatic Wilms tumor. Her 32 year-old mother died bilateral breast cancer, suggesting genetic predisposition radiogenic cancer. Recent improvements survival children certain cancers necessitate long-term surveillance iatrogenic neoplasia, particularly familial susceptibility evident.\n",
      "\n",
      "\n",
      "76242\n",
      "Immunologic aspects of 1, 2-dimethylhydrazine-induced colon tumors in rats.Investigation immunologic aspects colon tumors induced rats 1,2-dimethylhydrazine demonstrated that: 1) An antigen extract colon tumors detected normal colon. It related antigens rat fetuses cross-react immunologically carcinoembryonic antigen. 2) Mucinous adenocarcinomas colon significantly associated spatially lymphoid follicles.\n",
      "\n",
      "\n",
      "36295\n",
      "Lung carcinoma-reactive antibodies isolated from tumor tissues and pleural effusions of lung cancer patients.Low pH elution techniques used lung cancer tissues pleural effusions lung cancer patients dissociate antigen-antibody complexes. The immunoglobulins obtained assayed indirect immunofluorescence tissue cultures fresh cell suspensions various target cells; reacted positively, significant titers, cells squamous cell carcinomas adenocarcinomas lung cells normal adult fetal lung nonpulmonary tumors. Immunoglobulins, similarly dissociated tumor effusions organs, showed reactivity indirect immunofluorescence tests lung carcinoma cells.\n",
      "\n",
      "\n",
      "79326\n",
      "Bronchial cancer - a clinical and pathological study. I. Histopathology and metastases.Among 16,394 necropsies 12-year period, 1958-1969 (representing 60% persons died Malmö period, 747 cases bronchial cancer found 744 individuals. There considerable differences frequency different histologic types regard sex. Two main classes therefore distinguished: Group I, comprising squamous epithelial cancer anaplastic cancer (including oat-cell cancer), predominant among men; Group II, comprising adenocarcinoma, bronchiolar carcinoma, carcinoid bronchial gland tumour, less equal frequency sexes. Compared malignant tumours, bronchial carcinoma strong tendency metastasise adrenals, brain, kidneys skeleton. Bronchial cancer differ tumours regard lymphogenous spread stronger tendency spread via blood stream. Squamous epithelial cancer showed strongest tendency remain confined thoracic cavity.\n",
      "\n",
      "\n",
      "11238\n",
      "The identification of individuals at high risk for large bowel cancer: an overview.Attempts identify individuals increased susceptibility colon cancer clinical manifestations disease, recently made. Early stages abnormal growth colonic epithelial cells, related factors may contribute development colonic neoplasia shown. Based identification early findings, programs prevent evolution malignancy individuals increased risk consideration present time.\n",
      "\n",
      "\n",
      "34848\n",
      "Aryl-hydrocarbon-hydroxylase inducibility in patients with cancer.Aryl-hydrocarbon-hydroxylase (A.H.H.) inducibility studied peripheral-blood lymphocytes patients squamous-cell lung cancer, patients cancer sites, controls matched age, sex, social class, smoking habits. The proportion high inducers significantly greater among patients lung cancer (but patients cancers) among controls, suggests that, besides smoking, constitutional factor may involved pathogenesis lung cancer.\n",
      "\n",
      "\n",
      "24878\n",
      "Treatment of obstructing cancer of the colon and rectum.A review made 128 patients obstructing cancer colon rectum. About one-third patients metastatic disease time presentation. Primary resection carried initial higher mortality rate staged resection, one year three years, statistical difference found two procedures. There high morbidity mortality rates forms treatment. A controlled comparative trial primary staged resection recommended treatment obstructing cancer colon rectum.\n",
      "\n",
      "\n"
     ]
    }
   ],
   "source": [
    "for idx,item in enumerate(similarities):\n",
    "    print item\n",
    "    print documents[item]\n",
    "    print \"\\n\"\n",
    "    if idx > 19:\n",
    "        break"
   ]
  },
  {
   "cell_type": "code",
   "execution_count": 27,
   "metadata": {},
   "outputs": [],
   "source": [
    "colorectal_vocab = ['esophagus','stomach','liver','hepatic','gallbladder','intestine','colon','colonic','cecum','rectum','rectal','pancreas','sigmoid','anus','anal','pulmonary','lung','bronchus','bronchogenic','bronchi','adenocarcinoma','adenocarcinomas']\n",
    "result_preprocessed = []"
   ]
  },
  {
   "cell_type": "code",
   "execution_count": 28,
   "metadata": {},
   "outputs": [],
   "source": [
    "for idx,record in enumerate(similarities):\n",
    "        #print record\n",
    "        temp = re.sub(r\"(?<=\\w[^\\d])\\.|\\.(?=[^\\d])|\\(|\\)|\\[|\\]|,(?= )|((?<=[^\\w])-|-(?=[^\\w]))|:|\\?|\\;\",\" \",documents[record])\n",
    "        result_preprocessed.append(temp) \n",
    "        if idx == 19:\n",
    "            break"
   ]
  },
  {
   "cell_type": "code",
   "execution_count": 29,
   "metadata": {},
   "outputs": [
    {
     "name": "stdout",
     "output_type": "stream",
     "text": [
      "17\n"
     ]
    }
   ],
   "source": [
    "relevant_results = []        \n",
    "\n",
    "relevant_results.extend([s.split() for s in result_preprocessed if any(xs in s.lower().split() for xs in colorectal_vocab)]) \n",
    "print len(relevant_results)   "
   ]
  },
  {
   "cell_type": "code",
   "execution_count": null,
   "metadata": {},
   "outputs": [],
   "source": []
  }
 ],
 "metadata": {
  "kernelspec": {
   "display_name": "Python 2",
   "language": "python",
   "name": "python2"
  },
  "language_info": {
   "codemirror_mode": {
    "name": "ipython",
    "version": 2
   },
   "file_extension": ".py",
   "mimetype": "text/x-python",
   "name": "python",
   "nbconvert_exporter": "python",
   "pygments_lexer": "ipython2",
   "version": "2.7.14"
  }
 },
 "nbformat": 4,
 "nbformat_minor": 2
}
