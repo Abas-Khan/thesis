{
 "cells": [
  {
   "cell_type": "code",
   "execution_count": 11,
   "metadata": {},
   "outputs": [],
   "source": [
    "from nltk.corpus import stopwords"
   ]
  },
  {
   "cell_type": "code",
   "execution_count": 3,
   "metadata": {},
   "outputs": [],
   "source": [
    "content = []\n",
    "with open('big_home_test.txt', 'r') as content_file:\n",
    "    content = content_file.read()\n",
    "\n",
    "    "
   ]
  },
  {
   "cell_type": "code",
   "execution_count": 5,
   "metadata": {},
   "outputs": [],
   "source": [
    "content = content.split(\"\\n\")"
   ]
  },
  {
   "cell_type": "code",
   "execution_count": 6,
   "metadata": {},
   "outputs": [
    {
     "name": "stdout",
     "output_type": "stream",
     "text": [
      "[Biochemical studies on camomile components/III. In vitro studies about the antipeptic activity of (--)-alpha-bisabolol (author's transl)].(--)-alpha-Bisabolol primary antipeptic action depending dosage, caused alteration pH-value. The proteolytic activity pepsin reduced 50 percent addition bisabolol ratio 1/0.5. The antipeptic action bisabolol occurs case direct contact. In case previous contact substrate, inhibiting effect lost.\n"
     ]
    }
   ],
   "source": [
    "print content[0]"
   ]
  },
  {
   "cell_type": "code",
   "execution_count": 521,
   "metadata": {},
   "outputs": [],
   "source": [
    "suggestions = '''Metabolic acidosis side-effect methoxyflurane anesthesia\n",
    "Nephrotic syndrome indian children.A clinicopathological\n",
    "Cordaron nonachlasine treatment chronic coronary\n",
    "Experience treatment open leg fractures].Open\n",
    "Arterialization coronary veins diffuse coronary\n",
    "Changes EEG pulmonary venous admixture\n",
    "Diagnosis liver diseases laboratory results\n",
    "Diagnosis renal tumor gamma-glutamyltranspeptidase (EC\n",
    "The immediate effect beta-isoket internal\n",
    "Tyrosine aminotransferase induction normal tumor-bearing\n",
    "Prognostic factors polyarteritis.The clinical course\n",
    "Postvacccinal encephalomyelitis protective antirabic innoculation,\n",
    "Roentgenological findings cryptorchidism.Intravenous urography 78\n",
    "Papillary necrosis associated calyceal arteritis.The\n",
    "Comparative evaluation results intertrochanteric femur\n",
    "Catecholamines, cholinergic serotoninergic complexes criteria\n",
    "Vasculitis hepatitis B antigenemia: long-term\n",
    "Evaluation non-professional visual screening method.A\n",
    "Significance serum pepsinogen abomasal pH\n",
    "Comparative study virological infections asthmatic'''\n"
   ]
  },
  {
   "cell_type": "code",
   "execution_count": 522,
   "metadata": {},
   "outputs": [],
   "source": [
    "suggestions = suggestions.split(\"\\n\")"
   ]
  },
  {
   "cell_type": "code",
   "execution_count": 523,
   "metadata": {},
   "outputs": [
    {
     "name": "stdout",
     "output_type": "stream",
     "text": [
      "The chest radiograph primary liver\n"
     ]
    }
   ],
   "source": [
    "print suggestions[0]"
   ]
  },
  {
   "cell_type": "code",
   "execution_count": 526,
   "metadata": {},
   "outputs": [],
   "source": [
    "key_words = \"study studies evidence Study Studies Evidence analysis Analysis investigations Investigations effect Effect effects Effects\""
   ]
  },
  {
   "cell_type": "code",
   "execution_count": 527,
   "metadata": {},
   "outputs": [
    {
     "name": "stdout",
     "output_type": "stream",
     "text": [
      "87203\n",
      "The chest radiograph in primary liver cancer: an analysis of 449 cases.The value plain chest radiography diagnosis primary hepatocellular cancer (PHC) assessed 449 patients. An elevated right hemidiaphragm pulmonary metastases present 11% strongly suggest diagnosis PHC. In all, right hemidiaphragm raised 30% patients. Pulmonary metastases present admission 19% patients appeared later 6%. Secondary deposits found lungs necropsy 52% patients, compared 24% radiological evidence metastases life. In 36% patients chest radiographs normal admission.\n",
      "\n",
      "\n",
      "94539\n",
      "33584\n",
      "65369\n",
      "86119\n",
      "99644\n",
      "97763\n",
      "59111\n",
      "61324\n",
      "65372\n",
      "88320\n",
      "59198\n",
      "97655\n",
      "35170\n",
      "91527\n",
      "93218\n",
      "37759\n",
      "Hand metastasis from melanoma: a case study.Metastases hand rare. Most frequently result carcinomas lung, breast kidney. This case report rare peripheral metastatic lesion 24-year-old man melanoma. There previously reported hand metastases melanoma. Because extremely poor prognosis patients osseous metastases melanoma, treatment palliative.\n",
      "\n",
      "\n",
      "69773\n",
      "71198\n",
      "29191\n",
      "99394\n",
      "87213\n",
      "44414\n",
      "47692\n",
      "Comparison of whole lung tomography and computed tomography for detecting pulmonary nodules.Detecting pulmonary metastasis important planning surgical therapy, radiotherapy, chemotherapy patients known malignancy. A series 91 patients studied whole lung tomography computed tomography (CT) lungs. More pulmonary nodules detected CT whole lung tomography 32 (35%) patients. Of 91 patients study, 31 resection pulmonary nodules. In 27 patients, nodules primary metastatic malignant lesions. Bilateral pulmonary nodules detected CT 13 patients whole lung tomography demonstrated nodules one lung. CT replaced whole lung tomography method preferred authors detecting pulmonary nodules selected patients risk develop pulmonary metastasis.\n",
      "\n",
      "\n",
      "34059\n",
      "59478\n",
      "final score is : 3\n"
     ]
    }
   ],
   "source": [
    "score = 0\n",
    "for elements in suggestions:\n",
    "    index = 0\n",
    "    for idx,item in enumerate(content):\n",
    "        if all(elem in item  for elem in elements.split()):\n",
    "            print idx\n",
    "            index = idx\n",
    "    if any(substring in content[index] for substring in key_words.split()):\n",
    "        score = score + 1\n",
    "        print content[index]\n",
    "        print \"\\n\"\n",
    "print \"final score is :\",score        \n",
    "    \n",
    "    "
   ]
  },
  {
   "cell_type": "code",
   "execution_count": 445,
   "metadata": {},
   "outputs": [],
   "source": [
    "elements = \"An elderly 70 year old patient. Primary tumor in liver. metastasis in lung and liver\""
   ]
  },
  {
   "cell_type": "code",
   "execution_count": 446,
   "metadata": {},
   "outputs": [],
   "source": [
    "index = 0"
   ]
  },
  {
   "cell_type": "code",
   "execution_count": 447,
   "metadata": {},
   "outputs": [
    {
     "name": "stdout",
     "output_type": "stream",
     "text": [
      "49550\n"
     ]
    }
   ],
   "source": [
    "for idx,item in enumerate(content):\n",
    "    if all(elem in item  for elem in elements.split()):\n",
    "        print idx\n",
    "        index = idx"
   ]
  },
  {
   "cell_type": "code",
   "execution_count": 448,
   "metadata": {},
   "outputs": [],
   "source": [
    "key_words = \"study studies evidence Study Studies Evidence analysis Analysis investigations Investigations effect Effect effects Effects\""
   ]
  },
  {
   "cell_type": "code",
   "execution_count": 449,
   "metadata": {},
   "outputs": [
    {
     "name": "stdout",
     "output_type": "stream",
     "text": [
      "Rat liver cytosolic azoreductase. Purification and characterization.An azoreductase purified apparent homogeneity hepatic 105,000 x g supernatant fraction 3-methylcholanthrene-treated rats. In presence sodium dodecyl sulfate, purified enzyme preparation electrophoreses polyacrylamide gels single protein band molecular weight 30,000. In absence detergent, chromatography azoreductase Sephadex G-100 gives molecular weight 52,000 suggesting native enzyme may exist dimer. The purified azoreductase typical flavoprotein absorption spectrum contains 2 mol FAD/mol enzyme. The enzyme catalyzes reductive fission methyl red (2'-carboxy-4-N,N-dimethylaminoazobenzene) structure-activity study indicates 2'-carboxyl group methyl red essential catalysis since structurally related analogs totally inactive.\n"
     ]
    }
   ],
   "source": [
    "if any(substring in content[index] for substring in key_words.split()):\n",
    "    print content[index]\n",
    "    "
   ]
  },
  {
   "cell_type": "code",
   "execution_count": 398,
   "metadata": {},
   "outputs": [
    {
     "name": "stdout",
     "output_type": "stream",
     "text": [
      "CDP-diglyceride:inositol transferase from rat liver. Purification and properties.CDP-diglyceride:inositol transferase, catalyzes final step de novo synthesis phosphatidylinositol, solubilized sodium cholate microsomes prepared rat liver purified ammonium sulfate fractionation, sucrose density gradient centrifugation, DEAE-cellulose column chromatography. Addition phospholipid purification assay procedures prevented irreversible loss enzyme activity extent. The resulting preparation nearly homogeneous judged polyacrylamide gel electrophoresis. The recovery purified enzyme microsomal fraction 3 3.3% respect activity 0.12% respect amount protein. The molecular weight enzyme estimated sodium dodecyl sulfate-polyacrylamide gel electrophoresis 60,000. The purified enzyme required exogenous phospholipds activity. Various phospholipid classes activated enzyme rather nonspecifically. The Km myo-inositol 2.5 X 10(-3) M CDP-diglyceride 1.7 X 10(-4) M. The pH optimum 8.6. The enzyme required Mm2+ Mg2+ activity. The optimal concentration Mn2+ activation 0.5 mM, activity presence Mg2+ increased 20 mM. The enzyme inhibited thiol-reactive reagents. There competition inositol inosose-2 scyllitol.\n"
     ]
    }
   ],
   "source": [
    "print content[index]"
   ]
  },
  {
   "cell_type": "code",
   "execution_count": 12,
   "metadata": {},
   "outputs": [
    {
     "name": "stderr",
     "output_type": "stream",
     "text": [
      "/home/abbas/anaconda2/lib/python2.7/site-packages/ipykernel_launcher.py:1: UnicodeWarning: Unicode equal comparison failed to convert both arguments to Unicode - interpreting them as being unequal\n",
      "  \"\"\"Entry point for launching an IPython kernel.\n"
     ]
    }
   ],
   "source": [
    "#filtered_words = [word for word in content if word not in stopwords.words('english')]"
   ]
  },
  {
   "cell_type": "code",
   "execution_count": null,
   "metadata": {},
   "outputs": [
    {
     "name": "stderr",
     "output_type": "stream",
     "text": [
      "IOPub data rate exceeded.\n",
      "The notebook server will temporarily stop sending output\n",
      "to the client in order to avoid crashing it.\n",
      "To change this limit, set the config variable\n",
      "`--NotebookApp.iopub_data_rate_limit`.\n",
      "\n",
      "Current values:\n",
      "NotebookApp.iopub_data_rate_limit=1000000.0 (bytes/sec)\n",
      "NotebookApp.rate_limit_window=3.0 (secs)\n",
      "\n"
     ]
    }
   ],
   "source": [
    "print filtered_words"
   ]
  },
  {
   "cell_type": "code",
   "execution_count": 9,
   "metadata": {},
   "outputs": [],
   "source": [
    "results = [s for s in content if all(xs in s for xs in elements.split())]"
   ]
  },
  {
   "cell_type": "code",
   "execution_count": 1,
   "metadata": {},
   "outputs": [
    {
     "ename": "NameError",
     "evalue": "name 'results' is not defined",
     "output_type": "error",
     "traceback": [
      "\u001b[0;31m---------------------------------------------------------------------------\u001b[0m",
      "\u001b[0;31mNameError\u001b[0m                                 Traceback (most recent call last)",
      "\u001b[0;32m<ipython-input-1-60edbf48a961>\u001b[0m in \u001b[0;36m<module>\u001b[0;34m()\u001b[0m\n\u001b[0;32m----> 1\u001b[0;31m \u001b[0;32mprint\u001b[0m \u001b[0mresults\u001b[0m\u001b[0;34m\u001b[0m\u001b[0m\n\u001b[0m",
      "\u001b[0;31mNameError\u001b[0m: name 'results' is not defined"
     ]
    }
   ],
   "source": [
    "print results"
   ]
  },
  {
   "cell_type": "code",
   "execution_count": null,
   "metadata": {},
   "outputs": [],
   "source": []
  }
 ],
 "metadata": {
  "kernelspec": {
   "display_name": "Python 2",
   "language": "python",
   "name": "python2"
  },
  "language_info": {
   "codemirror_mode": {
    "name": "ipython",
    "version": 2
   },
   "file_extension": ".py",
   "mimetype": "text/x-python",
   "name": "python",
   "nbconvert_exporter": "python",
   "pygments_lexer": "ipython2",
   "version": "2.7.14"
  }
 },
 "nbformat": 4,
 "nbformat_minor": 2
}
